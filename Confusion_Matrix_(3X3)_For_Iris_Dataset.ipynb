{
  "nbformat": 4,
  "nbformat_minor": 0,
  "metadata": {
    "kernelspec": {
      "display_name": "Python 3",
      "language": "python",
      "name": "python3"
    },
    "language_info": {
      "codemirror_mode": {
        "name": "ipython",
        "version": 3
      },
      "file_extension": ".py",
      "mimetype": "text/x-python",
      "name": "python",
      "nbconvert_exporter": "python",
      "pygments_lexer": "ipython3",
      "version": "3.7.4"
    },
    "colab": {
      "name": "Confusion Matrix (3X3) For Iris Dataset.ipynb",
      "provenance": []
    }
  },
  "cells": [
    {
      "cell_type": "code",
      "metadata": {
        "id": "wv1vfxhRps9m",
        "colab_type": "code",
        "colab": {}
      },
      "source": [
        "import numpy as np\n",
        "import pandas as pd"
      ],
      "execution_count": 0,
      "outputs": []
    },
    {
      "cell_type": "code",
      "metadata": {
        "id": "cFtVmVRpps9v",
        "colab_type": "code",
        "colab": {}
      },
      "source": [
        "dataset_file=pd.read_csv('Iris.csv')\n",
        "dataset_np_array=np.asarray(dataset_file)"
      ],
      "execution_count": 0,
      "outputs": []
    },
    {
      "cell_type": "code",
      "metadata": {
        "id": "VPi3UXixps90",
        "colab_type": "code",
        "colab": {}
      },
      "source": [
        "def unique_value(arr):\n",
        "    unique_list=[]\n",
        "    for i in arr:\n",
        "        if i not in unique_list:\n",
        "            unique_list.append(i)\n",
        "    return(unique_list)\n",
        "\n",
        "def to_one_hot(Y):\n",
        "    n_col = np.amax(Y) + 1\n",
        "    binarized = np.zeros((len(Y), n_col))\n",
        "    for i in range(len(Y)):\n",
        "        binarized[i, Y[i]] = 1.\n",
        "    return binarized\n",
        "\n",
        "def sigmoid(x):\n",
        "    return 1/(1+np.exp(-x))\n",
        "\n",
        "def sigmoid_deriv(x):\n",
        "    return sigmoid(x)*(1 - sigmoid(x))\n",
        "\n",
        "def normalize(X, axis=-1, order=2):\n",
        "    l2 = np.atleast_1d(np.linalg.norm(X, order, axis))\n",
        "    l2[l2 == 0] = 1\n",
        "    return X / np.expand_dims(l2, axis)\n",
        "\n",
        "def from_one_hot(Y):\n",
        "    arr = np.zeros((len(Y), 1))\n",
        "\n",
        "    for i in range(len(Y)):\n",
        "        l = layer2[i]\n",
        "        for j in range(len(l)):\n",
        "            if(l[j] == 1):\n",
        "                arr[i] = j\n",
        "    return arr\n",
        "\n",
        "def normalise(v):\n",
        "    norm=np.linalg.norm(v)\n",
        "    if norm==0:\n",
        "        return v\n",
        "    return(v/norm)"
      ],
      "execution_count": 0,
      "outputs": []
    },
    {
      "cell_type": "code",
      "metadata": {
        "id": "Spcx1JRhps96",
        "colab_type": "code",
        "outputId": "097a2f6b-4178-4130-ce88-912769870ba7",
        "colab": {}
      },
      "source": [
        "unique_value(dataset_np_array[:,-1])"
      ],
      "execution_count": 0,
      "outputs": [
        {
          "output_type": "execute_result",
          "data": {
            "text/plain": [
              "['Iris-setosa', 'Iris-versicolor', 'Iris-virginica']"
            ]
          },
          "metadata": {
            "tags": []
          },
          "execution_count": 325
        }
      ]
    },
    {
      "cell_type": "code",
      "metadata": {
        "id": "lovkJtDPps-A",
        "colab_type": "code",
        "colab": {}
      },
      "source": [
        "for i in range(len(dataset_np_array[:,-1])):\n",
        "    if dataset_np_array[i,-1]=='Iris-setosa':\n",
        "        dataset_np_array[i,-1]=0\n",
        "    elif dataset_np_array[i,-1]=='Iris-versicolor':\n",
        "        dataset_np_array[i,-1]=1\n",
        "    elif dataset_np_array[i,-1]=='Iris-virginica':\n",
        "        dataset_np_array[i,-1]=2       \n"
      ],
      "execution_count": 0,
      "outputs": []
    },
    {
      "cell_type": "code",
      "metadata": {
        "scrolled": true,
        "id": "-nWKIoCeps-E",
        "colab_type": "code",
        "colab": {}
      },
      "source": [
        "data_org=dataset_np_array[:,1:].astype(float)\n",
        "np.random.shuffle(data_org)\n",
        "data=normalise(data_org)"
      ],
      "execution_count": 0,
      "outputs": []
    },
    {
      "cell_type": "code",
      "metadata": {
        "id": "jx-1XxH3ps-K",
        "colab_type": "code",
        "colab": {}
      },
      "source": [
        "#train_data\n",
        "data_train=data[0:int(0.7*len(data)),0:-1]\n",
        "label_train1=data_org[0:int(0.7*len(data)):,-1]\n",
        "label_train=(label_train1).reshape((len(label_train1),1))\n",
        "\n",
        "#testing_data\n",
        "data_test=data[int(0.7*len(data)):int(0.8*len(data)),0:-1]\n",
        "label_test1=data_org[int(0.7*len(data)):int(0.8*len(data)):,-1]\n",
        "label_test=(label_test1).reshape((len(label_test),1))\n",
        "\n",
        "\n",
        "#Validation_data\n",
        "data_validate=data[int(0.7*len(data)):,0:-1]\n",
        "label_validate1=data_org[int(0.9*len(data)):,-1]\n",
        "label_validate=(label_validate1).reshape((len(label_validate1),1))"
      ],
      "execution_count": 0,
      "outputs": []
    },
    {
      "cell_type": "code",
      "metadata": {
        "scrolled": true,
        "id": "UOSnvK7Tps-P",
        "colab_type": "code",
        "colab": {}
      },
      "source": [
        "y_train=np.asarray(to_one_hot(label_train.astype(int).flatten()))"
      ],
      "execution_count": 0,
      "outputs": []
    },
    {
      "cell_type": "code",
      "metadata": {
        "id": "mf8nvKyWps-U",
        "colab_type": "code",
        "outputId": "051d6683-2411-48a3-9a19-70029c43833e",
        "colab": {}
      },
      "source": [
        "w0 = 2*np.random.random((4, 5)) - 1 #for input   - 4 inputs, 3 outputs\n",
        "w1 = 2*np.random.random((5, 3)) - 1 #for layer 1 - 5 inputs, 3 outputs\n",
        "\n",
        "\n",
        "#learning rate\n",
        "n = 0.1\n",
        "\n",
        "#Errors - for graph \n",
        "errors = []\n",
        "\n",
        "#Train\n",
        "for i in range(85000):\n",
        "\n",
        "    #Feed forward\n",
        "    layer0 = data_train\n",
        "    layer1 = sigmoid(np.dot(layer0, w0))\n",
        "    layer2 = sigmoid(np.dot(layer1, w1))\n",
        "\n",
        "    #Back propagation using gradient descent\n",
        "    layer2_error = y_train - layer2\n",
        "    layer2_delta = layer2_error * sigmoid_deriv(layer2)\n",
        "    \n",
        "    layer1_error = layer2_delta.dot(w1.T)\n",
        "    layer1_delta = layer1_error * sigmoid_deriv(layer1)\n",
        "    \n",
        "    w1 += layer1.T.dot(layer2_delta) * n\n",
        "    w0 += layer0.T.dot(layer1_delta) * n\n",
        "    \n",
        "    error = np.mean(np.abs(layer2_error))\n",
        "    errors.append(error)\n",
        "    accuracy = (1 - error) * 100\n",
        "\n",
        "#Plot the accuracy chart\n",
        "plt.plot(errors)\n",
        "plt.xlabel('Training')\n",
        "plt.ylabel('Error')\n",
        "plt.show()\n",
        "        \n",
        "print(\"Training Accuracy \" + str(round(accuracy,2)) + \"%\")"
      ],
      "execution_count": 0,
      "outputs": [
        {
          "output_type": "display_data",
          "data": {
            "image/png": "[encoded data removed]",
            "text/plain": [
              "<Figure size 432x288 with 1 Axes>"
            ]
          },
          "metadata": {
            "tags": [],
            "needs_background": "light"
          }
        },
        {
          "output_type": "stream",
          "text": [
            "Training Accuracy 84.5%\n"
          ],
          "name": "stdout"
        }
      ]
    },
    {
      "cell_type": "code",
      "metadata": {
        "id": "V1jaB0zips-Y",
        "colab_type": "code",
        "outputId": "d9afe6b6-7bda-4b8c-f2fa-b1dea4848e92",
        "colab": {}
      },
      "source": [
        "y_test=np.asarray(to_one_hot(label_test.astype(int).flatten()))\n",
        "layer0 = normalise(data_test)\n",
        "layer1 = sigmoid(np.dot(layer0, w0))\n",
        "layer2 = sigmoid(np.dot(layer1, w1))\n",
        "layer2_error = y_test - layer2\n",
        "\n",
        "error = np.mean(np.abs(layer2_error))\n",
        "accuracy = (1 - error) * 100\n",
        "accuracy"
      ],
      "execution_count": 0,
      "outputs": [
        {
          "output_type": "execute_result",
          "data": {
            "text/plain": [
              "73.12911133197854"
            ]
          },
          "metadata": {
            "tags": []
          },
          "execution_count": 338
        }
      ]
    },
    {
      "cell_type": "code",
      "metadata": {
        "id": "5K0YXg1Cps-e",
        "colab_type": "code",
        "colab": {}
      },
      "source": [
        "def prediction(y_given,y_pred):\n",
        "    for i in range(y_given.shape[0]):\n",
        "        for j in range(y_given.shape[1]):\n",
        "            if (y_pred[i,j])<0.5:\n",
        "                y_pred[i,j]=np.floor(y_pred[i,j])\n",
        "            else:\n",
        "                y_pred[i,j]=np.ceil(y_pred[i,j])            \n",
        "    return(y_pred)             "
      ],
      "execution_count": 0,
      "outputs": []
    },
    {
      "cell_type": "code",
      "metadata": {
        "id": "Vs6X4v-Ips-i",
        "colab_type": "code",
        "colab": {}
      },
      "source": [
        "y_predicted=prediction(y_test,layer2)\n",
        "y_pred=from_one_hot(y_predicted)"
      ],
      "execution_count": 0,
      "outputs": []
    },
    {
      "cell_type": "code",
      "metadata": {
        "scrolled": true,
        "id": "FJsi8JmKps-m",
        "colab_type": "code",
        "outputId": "e23ec582-4d8a-4c11-9895-44462ae2e72b",
        "colab": {}
      },
      "source": [
        "y_pred"
      ],
      "execution_count": 0,
      "outputs": [
        {
          "output_type": "execute_result",
          "data": {
            "text/plain": [
              "array([[2.],\n",
              "       [2.],\n",
              "       [2.],\n",
              "       [0.],\n",
              "       [2.],\n",
              "       [2.],\n",
              "       [2.],\n",
              "       [2.],\n",
              "       [2.],\n",
              "       [0.],\n",
              "       [0.],\n",
              "       [2.],\n",
              "       [0.],\n",
              "       [2.],\n",
              "       [2.]])"
            ]
          },
          "metadata": {
            "tags": []
          },
          "execution_count": 342
        }
      ]
    },
    {
      "cell_type": "code",
      "metadata": {
        "id": "iwQlcdnops-s",
        "colab_type": "code",
        "colab": {}
      },
      "source": [
        "def confusion_matrix(org_mat,pred_mat):\n",
        "    conf_mat=np.zeros((3,3))\n",
        "    for i in range(len(org_mat)):\n",
        "        if org_mat[i]==0 and pred_mat[i]==0:\n",
        "            conf_mat[0,0]+=1\n",
        "        elif org_mat[i]==0 and pred_mat[i]==1:\n",
        "            conf_mat[0,1]+=1        \n",
        "        elif org_mat[i]==0 and pred_mat[i]==2:\n",
        "            conf_mat[0,2]+=1\n",
        "        elif org_mat[i]==1 and pred_mat[i]==1:\n",
        "            conf_mat[1,1]+=1\n",
        "        elif org_mat[i]==1 and pred_mat[i]==0:\n",
        "            conf_mat[1,0]+=1        \n",
        "        elif org_mat[i]==1 and pred_mat[i]==2:\n",
        "            conf_mat[1,2]+=1\n",
        "        elif org_mat[i]==2 and pred_mat[i]==2:\n",
        "            conf_mat[2,2]+=1\n",
        "        elif org_mat[i]==2 and pred_mat[i]==0:\n",
        "            conf_mat[2,0]+=1        \n",
        "        elif org_mat[i]==2 and pred_mat[i]==1:\n",
        "            conf_mat[2,1]+=1                \n",
        "    return(conf_mat)"
      ],
      "execution_count": 0,
      "outputs": []
    },
    {
      "cell_type": "code",
      "metadata": {
        "id": "Nztb_kAvps-w",
        "colab_type": "code",
        "outputId": "81e05758-91e7-4386-ae86-54905e72984f",
        "colab": {}
      },
      "source": [
        "confusion_matrix(label_test,y_pred)"
      ],
      "execution_count": 0,
      "outputs": [
        {
          "output_type": "execute_result",
          "data": {
            "text/plain": [
              "array([[2., 0., 0.],\n",
              "       [2., 0., 4.],\n",
              "       [0., 0., 7.]])"
            ]
          },
          "metadata": {
            "tags": []
          },
          "execution_count": 344
        }
      ]
    }
  ]
}